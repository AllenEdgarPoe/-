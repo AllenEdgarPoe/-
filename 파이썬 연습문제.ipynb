{
 "cells": [
  {
   "cell_type": "markdown",
   "metadata": {},
   "source": [
    "# 파이썬 연습문제 "
   ]
  },
  {
   "cell_type": "markdown",
   "metadata": {},
   "source": [
    " - **1번: 다음 식의 결과값을 쓰시오**"
   ]
  },
  {
   "cell_type": "code",
   "execution_count": 1,
   "metadata": {},
   "outputs": [
    {
     "name": "stdout",
     "output_type": "stream",
     "text": [
      "\"['list']\" is a iterable object\n",
      "\"{'set'}\" is a iterable object\n",
      "\"1\" is a non-iterable object\n",
      "\"range(1, 10)\" is a iterable object\n",
      "\"set()\" is a iterable object\n",
      "\"frozenset({1, 2})\" is a iterable object\n",
      "\"string\" is a iterable object\n",
      "\"{'dict_key': 'dict_value'}\" is a iterable object\n",
      "\"True\" is a non-iterable object\n",
      "\"{'a': 1}\" is a iterable object\n"
     ]
    }
   ],
   "source": [
    "def iterable_test(x):\n",
    "    try:\n",
    "        iter(x)\n",
    "        return ('iterable object')\n",
    "    except TypeError:\n",
    "        return ('non-iterable object')\n",
    "\n",
    "\n",
    "Object = [['list'],{'set'},1,range(1,10), set(),frozenset({1,2}),'string',{'dict_key':'dict_value'}, True, dict(a=1)]\n",
    "for x in Object:\n",
    "    print('\"{}\" is a {}'.format(x,iterable_test(x)))\n"
   ]
  },
  {
   "cell_type": "markdown",
   "metadata": {},
   "source": [
    "- **2번**"
   ]
  },
  {
   "cell_type": "code",
   "execution_count": 3,
   "metadata": {},
   "outputs": [
    {
     "name": "stdout",
     "output_type": "stream",
     "text": [
      "주경\n",
      "형민\n",
      "채린\n",
      "지연\n",
      "Raised StopIteration Error\n"
     ]
    }
   ],
   "source": [
    "People = ['주경', '형민', '채린', '지연']\n",
    "iterator = iter(People)\n",
    "for _ in range(0,len(People)+1):\n",
    "    try:\n",
    "        print(next(iterator))\n",
    "    except:\n",
    "        print('Raised StopIteration Error')"
   ]
  },
  {
   "cell_type": "markdown",
   "metadata": {},
   "source": [
    "- **3번**"
   ]
  },
  {
   "cell_type": "code",
   "execution_count": 5,
   "metadata": {},
   "outputs": [
    {
     "name": "stdout",
     "output_type": "stream",
     "text": [
      "{(1, 2), 34, 'string', 'tuple', range(1, 10), frozenset({1, 2, 3})}\n"
     ]
    }
   ],
   "source": [
    "test = [['list'],'string', ('tuple'), dict(dict_key='dict_value'), frozenset({1,2,3}), (1,2), range(1,10), 34, set()]\n",
    "se1 = set()\n",
    "for Object in test:\n",
    "    try:\n",
    "        se1.add(Object)\n",
    "    except:\n",
    "        pass\n",
    "print(se1)"
   ]
  },
  {
   "cell_type": "code",
   "execution_count": 8,
   "metadata": {},
   "outputs": [
    {
     "data": {
      "text/plain": [
       "{'abc'}"
      ]
     },
     "execution_count": 8,
     "metadata": {},
     "output_type": "execute_result"
    }
   ],
   "source": [
    "a = set()\n",
    "b = 'abc'\n",
    "a.add(b)\n",
    "a"
   ]
  },
  {
   "cell_type": "markdown",
   "metadata": {},
   "source": [
    "- **4번**"
   ]
  },
  {
   "cell_type": "code",
   "execution_count": 9,
   "metadata": {},
   "outputs": [
    {
     "name": "stdout",
     "output_type": "stream",
     "text": [
      "('a', array([1, 2, 3, 4, 5]))\n",
      "('b', array([ 6,  7,  8,  9, 10]))\n"
     ]
    }
   ],
   "source": [
    "import numpy as np\n",
    "matrix = np.array(range(1,11)).reshape(2,5)\n",
    "for row in zip(['a','b'], matrix):\n",
    "    print(row)"
   ]
  },
  {
   "cell_type": "markdown",
   "metadata": {},
   "source": [
    "- **5번**"
   ]
  },
  {
   "cell_type": "code",
   "execution_count": 10,
   "metadata": {},
   "outputs": [
    {
     "name": "stdout",
     "output_type": "stream",
     "text": [
      "['list'] is not hashable\n",
      "string's hash type is 3337270884086880299\n",
      "tuple's hash type is -5581437704972314287\n",
      "{'dict_key': 'dict_value'} is not hashable\n",
      "frozenset({1, 2, 3})'s hash type is -272375401224217160\n",
      "(1, 2)'s hash type is 3713081631934410656\n",
      "range(1, 10)'s hash type is -7561102024132986318\n",
      "34's hash type is 34\n",
      "set() is not hashable\n"
     ]
    }
   ],
   "source": [
    "test = [['list'],'string', ('tuple'), dict(dict_key='dict_value'), frozenset({1,2,3}), (1,2), range(1,10), 34, set()]\n",
    "for i in test:\n",
    "    try:\n",
    "        print(\"{}'s hash type is {}\".format(i,hash(i)))\n",
    "    except:\n",
    "        print('{} is not hashable'.format(i))"
   ]
  },
  {
   "cell_type": "markdown",
   "metadata": {},
   "source": [
    "- **6번**"
   ]
  },
  {
   "cell_type": "code",
   "execution_count": 11,
   "metadata": {},
   "outputs": [
    {
     "name": "stdout",
     "output_type": "stream",
     "text": [
      "[3, 6, 9]\n",
      "[3]\n",
      "['s']\n"
     ]
    }
   ],
   "source": [
    "def Filter(func, iterable):\n",
    "    return ([x for x in filter(func,iterable)])\n",
    "\n",
    "func = lambda x: x%3 == 0\n",
    "fun = lambda x:x == 's'\n",
    "test = [range(1,10), {1,2,3}, 'string']\n",
    "for i in test:\n",
    "    try:\n",
    "        print(Filter(func,i))\n",
    "    except:\n",
    "        print(Filter(fun,i))"
   ]
  },
  {
   "cell_type": "markdown",
   "metadata": {},
   "source": [
    "- **7번**"
   ]
  },
  {
   "cell_type": "code",
   "execution_count": 12,
   "metadata": {},
   "outputs": [
    {
     "name": "stdout",
     "output_type": "stream",
     "text": [
      "\n",
      "\n",
      "서산명월은 다 넘어가고\n",
      "벽수비풍은 슬슬 부는데 새벽\n",
      "종달이 우지지는 소리 아니 나던\n",
      "심정이 절로난다\n",
      "서산낙조에 떨어지는 해는 내일\n",
      "아침이면 다시 돋건마는\n",
      "황천길은 얼마나 멀게 한 번\n",
      "가면 못 오누나\n",
      "\n",
      "\n"
     ]
    }
   ],
   "source": [
    "lyrics = '''\n",
    "서명은다넘가\n",
    "수풍 슬부데새\n",
    "달 지는소 니나\n",
    "정 로다서낙에떨지 는내\n",
    "침면다 건는황길 마 게한번가  누\n",
    "''' \n",
    "def addition(original,new_lyrics):\n",
    "    return original + new_lyrics\n",
    "\n",
    "new = '''\n",
    "산월  어고벽비은슬 는 벽종이우지 리아 던심이절난\n",
    "산조 어는해 일아이 시돋마\n",
    "천은얼나멀  \n",
    "면못오나\n",
    "'''\n",
    "\n",
    "result = map (addition, lyrics, new)\n",
    "print(''.join(list(result)))"
   ]
  },
  {
   "cell_type": "code",
   "execution_count": null,
   "metadata": {},
   "outputs": [],
   "source": []
  }
 ],
 "metadata": {
  "kernelspec": {
   "display_name": "Python 3",
   "language": "python",
   "name": "python3"
  },
  "language_info": {
   "codemirror_mode": {
    "name": "ipython",
    "version": 3
   },
   "file_extension": ".py",
   "mimetype": "text/x-python",
   "name": "python",
   "nbconvert_exporter": "python",
   "pygments_lexer": "ipython3",
   "version": "3.6.5"
  }
 },
 "nbformat": 4,
 "nbformat_minor": 2
}
